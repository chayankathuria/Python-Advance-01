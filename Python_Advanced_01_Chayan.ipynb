{
  "nbformat": 4,
  "nbformat_minor": 0,
  "metadata": {
    "colab": {
      "name": "Python Advanced 01- Chayan.ipynb",
      "provenance": [],
      "collapsed_sections": []
    },
    "kernelspec": {
      "name": "python3",
      "display_name": "Python 3"
    }
  },
  "cells": [
    {
      "cell_type": "markdown",
      "metadata": {
        "id": "uoB_JG4lkz_d",
        "colab_type": "text"
      },
      "source": [
        "Agenda:\n",
        "1. List and dictionary comprehension & Zip function\n",
        "2. Time and Time it magic function\n",
        "3. Handy One Liners\n",
        "4. Directories & File operations\n",
        "5. Referencing in Python\n",
        "6. Raising exceptions \n",
        "7. Itertools module\n",
        "8. Collections module\n",
        "9. Modules, packages, classes, objects"
      ]
    },
    {
      "cell_type": "markdown",
      "metadata": {
        "id": "qivmB07QqCFI",
        "colab_type": "text"
      },
      "source": [
        "### **List and dictionary comprehension & Zip function**"
      ]
    },
    {
      "cell_type": "code",
      "metadata": {
        "id": "CMgvTNIjqIPr",
        "colab_type": "code",
        "colab": {}
      },
      "source": [
        "a = [1,2,3,4]\n",
        "b = ['a','b','c','d']\n",
        "c = []\n",
        "for i in a:\n",
        "  c.append(i**2)\n",
        "\n",
        "d = [i**2 for i in a if i%2==0]"
      ],
      "execution_count": 8,
      "outputs": []
    },
    {
      "cell_type": "code",
      "metadata": {
        "id": "dSO9tDALpXG9",
        "colab_type": "code",
        "colab": {
          "base_uri": "https://localhost:8080/",
          "height": 34
        },
        "outputId": "a6d4b851-af8c-4b36-aaa3-b7d68acbb3aa"
      },
      "source": [
        "print(c)"
      ],
      "execution_count": 9,
      "outputs": [
        {
          "output_type": "stream",
          "text": [
            "[1, 4, 9, 16]\n"
          ],
          "name": "stdout"
        }
      ]
    },
    {
      "cell_type": "code",
      "metadata": {
        "id": "an3lKqKIeeKa",
        "colab_type": "code",
        "colab": {}
      },
      "source": [
        "a = [1,2,3]\n",
        "b = [2,3,4]\n",
        "a,b = b,a"
      ],
      "execution_count": 41,
      "outputs": []
    },
    {
      "cell_type": "code",
      "metadata": {
        "id": "RhqUSSAIejPB",
        "colab_type": "code",
        "colab": {
          "base_uri": "https://localhost:8080/",
          "height": 34
        },
        "outputId": "beffdfe7-8730-478b-83ce-0aefe61eb6cf"
      },
      "source": [
        "b"
      ],
      "execution_count": 42,
      "outputs": [
        {
          "output_type": "execute_result",
          "data": {
            "text/plain": [
              "[1, 2, 3]"
            ]
          },
          "metadata": {
            "tags": []
          },
          "execution_count": 42
        }
      ]
    },
    {
      "cell_type": "code",
      "metadata": {
        "id": "Qg_MILmGpaCO",
        "colab_type": "code",
        "colab": {
          "base_uri": "https://localhost:8080/",
          "height": 34
        },
        "outputId": "cdb9ab45-ae6b-4c7e-f359-f4a656a28198"
      },
      "source": [
        "print(d)"
      ],
      "execution_count": 10,
      "outputs": [
        {
          "output_type": "stream",
          "text": [
            "[4, 16]\n"
          ],
          "name": "stdout"
        }
      ]
    },
    {
      "cell_type": "code",
      "metadata": {
        "id": "vrrbdPdVqKln",
        "colab_type": "code",
        "colab": {}
      },
      "source": [
        "dict1 = {k:v for k,v in zip(range(10),range(10))}"
      ],
      "execution_count": 33,
      "outputs": []
    },
    {
      "cell_type": "code",
      "metadata": {
        "id": "84llMOWrUeIz",
        "colab_type": "code",
        "colab": {
          "base_uri": "https://localhost:8080/",
          "height": 34
        },
        "outputId": "82e45075-52f7-4c60-e27f-7b871c161e19"
      },
      "source": [
        "dict1"
      ],
      "execution_count": 34,
      "outputs": [
        {
          "output_type": "execute_result",
          "data": {
            "text/plain": [
              "{0: 0, 1: 1, 2: 2, 3: 3, 4: 4, 5: 5, 6: 6, 7: 7, 8: 8, 9: 9}"
            ]
          },
          "metadata": {
            "tags": []
          },
          "execution_count": 34
        }
      ]
    },
    {
      "cell_type": "code",
      "metadata": {
        "id": "co0GM6wUtXu9",
        "colab_type": "code",
        "colab": {
          "base_uri": "https://localhost:8080/",
          "height": 34
        },
        "outputId": "e0f091b7-35c2-49c4-ea89-94c6c1bfcb6d"
      },
      "source": [
        "dict3 = {}\n",
        "for k in range(10):\n",
        "  for v in range(10):\n",
        "    dict3[k]=v\n",
        "dict3"
      ],
      "execution_count": 20,
      "outputs": [
        {
          "output_type": "execute_result",
          "data": {
            "text/plain": [
              "{0: 9, 1: 9, 2: 9, 3: 9, 4: 9, 5: 9, 6: 9, 7: 9, 8: 9, 9: 9}"
            ]
          },
          "metadata": {
            "tags": []
          },
          "execution_count": 20
        }
      ]
    },
    {
      "cell_type": "code",
      "metadata": {
        "id": "TJ9MuI71qtdh",
        "colab_type": "code",
        "colab": {
          "base_uri": "https://localhost:8080/",
          "height": 34
        },
        "outputId": "715b448f-15e7-4b64-f31f-ddd71f315d46"
      },
      "source": [
        "dict1"
      ],
      "execution_count": 17,
      "outputs": [
        {
          "output_type": "execute_result",
          "data": {
            "text/plain": [
              "{0: 9, 2: 9, 4: 9, 6: 9, 8: 9}"
            ]
          },
          "metadata": {
            "tags": []
          },
          "execution_count": 17
        }
      ]
    },
    {
      "cell_type": "code",
      "metadata": {
        "id": "NgT5PsMFrYKg",
        "colab_type": "code",
        "colab": {
          "base_uri": "https://localhost:8080/",
          "height": 34
        },
        "outputId": "1709d58d-cdd9-437b-ff37-d3b626be0b69"
      },
      "source": [
        "a = [1,2,3,4,5,6]\n",
        "b = ['a','b','c','d']\n",
        "\n",
        "\n",
        "dict2 = {n:m**2 for m,n in zip(a,b)}\n",
        "dict2"
      ],
      "execution_count": 27,
      "outputs": [
        {
          "output_type": "execute_result",
          "data": {
            "text/plain": [
              "{'a': 1, 'b': 4, 'c': 9, 'd': 16}"
            ]
          },
          "metadata": {
            "tags": []
          },
          "execution_count": 27
        }
      ]
    },
    {
      "cell_type": "markdown",
      "metadata": {
        "id": "XQuDDaect_s4",
        "colab_type": "text"
      },
      "source": [
        "## **Handy One Liners**"
      ]
    },
    {
      "cell_type": "markdown",
      "metadata": {
        "id": "fUTxITwLuFkS",
        "colab_type": "text"
      },
      "source": [
        "Swapping"
      ]
    },
    {
      "cell_type": "code",
      "metadata": {
        "id": "hENWQbO6v7Nb",
        "colab_type": "code",
        "colab": {
          "base_uri": "https://localhost:8080/",
          "height": 34
        },
        "outputId": "1256ebf5-a2dd-40ee-ee8e-d9119e1e97ed"
      },
      "source": [
        "a = 2\n",
        "b = 4\n",
        "a,b = b,a\n",
        "print(a,b)"
      ],
      "execution_count": 28,
      "outputs": [
        {
          "output_type": "stream",
          "text": [
            "4 2\n"
          ],
          "name": "stdout"
        }
      ]
    },
    {
      "cell_type": "markdown",
      "metadata": {
        "id": "lYf3rDbcuv08",
        "colab_type": "text"
      },
      "source": [
        "Palindrome"
      ]
    },
    {
      "cell_type": "code",
      "metadata": {
        "id": "hca3pw3Jwkm2",
        "colab_type": "code",
        "colab": {
          "base_uri": "https://localhost:8080/",
          "height": 34
        },
        "outputId": "43b71e6d-2ab0-433d-eae7-9e2349e791ed"
      },
      "source": [
        "str1 = 'abcbddd'\n",
        "print(str1 == str1[1])"
      ],
      "execution_count": 36,
      "outputs": [
        {
          "output_type": "stream",
          "text": [
            "False\n"
          ],
          "name": "stdout"
        }
      ]
    },
    {
      "cell_type": "markdown",
      "metadata": {
        "id": "UGgyeG40u0Fj",
        "colab_type": "text"
      },
      "source": [
        "Flatenning 2 D array"
      ]
    },
    {
      "cell_type": "code",
      "metadata": {
        "id": "KBFC1TRmu8uX",
        "colab_type": "code",
        "colab": {
          "base_uri": "https://localhost:8080/",
          "height": 34
        },
        "outputId": "b962cc84-0807-4019-dadd-7759fbccd366"
      },
      "source": [
        "lis1 =  [ [1,2], [2,3], [3,4], [4,5] ]\n",
        "ls2 =  []\n",
        "\n",
        "for i in lis1:\n",
        "  for j in i:\n",
        "    ls2.append(j)\n",
        "print(ls2)"
      ],
      "execution_count": 38,
      "outputs": [
        {
          "output_type": "stream",
          "text": [
            "[1, 2, 2, 3, 3, 4, 4, 5]\n"
          ],
          "name": "stdout"
        }
      ]
    },
    {
      "cell_type": "code",
      "metadata": {
        "id": "iEmuoeklyaKX",
        "colab_type": "code",
        "colab": {
          "base_uri": "https://localhost:8080/",
          "height": 34
        },
        "outputId": "2150939e-855d-40a1-eef3-21999ee70000"
      },
      "source": [
        "lis2 = [i for j in lis1 for i in j]\n",
        "print(lis2)"
      ],
      "execution_count": 42,
      "outputs": [
        {
          "output_type": "stream",
          "text": [
            "[1, 2, 2, 3, 3, 4, 4, 5]\n"
          ],
          "name": "stdout"
        }
      ]
    },
    {
      "cell_type": "markdown",
      "metadata": {
        "id": "hGthidmQvtZb",
        "colab_type": "text"
      },
      "source": [
        "Reduce"
      ]
    },
    {
      "cell_type": "code",
      "metadata": {
        "id": "MIn_SjZ1vu6Q",
        "colab_type": "code",
        "colab": {
          "base_uri": "https://localhost:8080/",
          "height": 34
        },
        "outputId": "e45e9c17-d63e-4d35-e9c8-fc8dd935d946"
      },
      "source": [
        "from functools import reduce\n",
        "a = [1,2,3,4]\n",
        "\n",
        "def sum(i,j):\n",
        "  return i+j\n",
        "  \n",
        "print(reduce(sum,a))\n",
        "\n",
        "#What it does :\n",
        "#Step1: 1+2 = 3 (This 3 goes as the first element in the next operation)\n",
        "#Step2: 3+3 = 6 (This 6 goes as the first element in the next operation)\n",
        "#Step3: 6+4 = 10 "
      ],
      "execution_count": 36,
      "outputs": [
        {
          "output_type": "stream",
          "text": [
            "10\n"
          ],
          "name": "stdout"
        }
      ]
    },
    {
      "cell_type": "code",
      "metadata": {
        "id": "I0QIh_ULwm1H",
        "colab_type": "code",
        "colab": {
          "base_uri": "https://localhost:8080/",
          "height": 34
        },
        "outputId": "365aca3b-51ec-45a9-a7a4-f0466697a2bb"
      },
      "source": [
        "reduce(lambda x, y: x+y, a)"
      ],
      "execution_count": 37,
      "outputs": [
        {
          "output_type": "execute_result",
          "data": {
            "text/plain": [
              "10"
            ]
          },
          "metadata": {
            "tags": []
          },
          "execution_count": 37
        }
      ]
    },
    {
      "cell_type": "markdown",
      "metadata": {
        "id": "xCYI0_pSwxD_",
        "colab_type": "text"
      },
      "source": [
        "Factorial"
      ]
    },
    {
      "cell_type": "code",
      "metadata": {
        "id": "JlsQ2rVR2l5O",
        "colab_type": "code",
        "colab": {
          "base_uri": "https://localhost:8080/",
          "height": 34
        },
        "outputId": "c1c902d6-c204-447a-ea7a-dab2859532e9"
      },
      "source": [
        "reduce(lambda x, y: x*y, range(1,7))\n",
        "#What it does :\n",
        "#Step1: 1*2 = 2 (This 2 goes as the first element in the next operation)\n",
        "#Step2: 2*3 = 6 (This 6 goes as the first element in the next operation)\n",
        "#Step3: 6*4 = 24......"
      ],
      "execution_count": 40,
      "outputs": [
        {
          "output_type": "execute_result",
          "data": {
            "text/plain": [
              "720"
            ]
          },
          "metadata": {
            "tags": []
          },
          "execution_count": 40
        }
      ]
    },
    {
      "cell_type": "markdown",
      "metadata": {
        "id": "xSaNeWcsl6YY",
        "colab_type": "text"
      },
      "source": [
        "## **Referencing in Python**"
      ]
    },
    {
      "cell_type": "markdown",
      "metadata": {
        "id": "DGl1drdunrgm",
        "colab_type": "text"
      },
      "source": [
        "Understanding Assignment in Python.\n",
        "Python’s language reference for assignment statements provides the following details:\n",
        "\n",
        "If the assignment target is an identifier, or variable name, then this name is bound to the object. For example, in x = 2, x is the name and 2 is the object.\n",
        "If the name is already bound to a separate object, then it’s re-bound to the new object. For example, if x is already 2 and you issue x = 3, then the variable name x is re-bound to 3."
      ]
    },
    {
      "cell_type": "code",
      "metadata": {
        "id": "B1S8SJkbmFgd",
        "colab_type": "code",
        "colab": {
          "base_uri": "https://localhost:8080/",
          "height": 34
        },
        "outputId": "ab4eb0ac-5116-49db-bff5-4ca2cb4f55b8"
      },
      "source": [
        "a = 4 # a is a name or a reference or a label to the object 4\n",
        "b = 4\n",
        "print(a is b)\n",
        "\n",
        "# a-> 4 <-b"
      ],
      "execution_count": 54,
      "outputs": [
        {
          "output_type": "stream",
          "text": [
            "True\n"
          ],
          "name": "stdout"
        }
      ]
    },
    {
      "cell_type": "code",
      "metadata": {
        "id": "kBiYpBik_dBg",
        "colab_type": "code",
        "colab": {}
      },
      "source": [
        "a =  [1,2,3]\n",
        "b =  [1,2,3]"
      ],
      "execution_count": 57,
      "outputs": []
    },
    {
      "cell_type": "code",
      "metadata": {
        "id": "U_ktLZFk_yq5",
        "colab_type": "code",
        "colab": {
          "base_uri": "https://localhost:8080/",
          "height": 34
        },
        "outputId": "09b0574b-c2a8-4111-a178-0dc1c17c9ccd"
      },
      "source": [
        "print(a is b)\n",
        "# a -> [1,2,3] <-b\n",
        "# b -> [1,2,3]"
      ],
      "execution_count": 61,
      "outputs": [
        {
          "output_type": "stream",
          "text": [
            "False\n"
          ],
          "name": "stdout"
        }
      ]
    },
    {
      "cell_type": "code",
      "metadata": {
        "id": "fR28vIf7AUYL",
        "colab_type": "code",
        "colab": {
          "base_uri": "https://localhost:8080/",
          "height": 34
        },
        "outputId": "2b2a4e21-31f9-4ae4-87e2-976bc8ec543d"
      },
      "source": [
        "id(a)"
      ],
      "execution_count": 63,
      "outputs": [
        {
          "output_type": "execute_result",
          "data": {
            "text/plain": [
              "139692522449096"
            ]
          },
          "metadata": {
            "tags": []
          },
          "execution_count": 63
        }
      ]
    },
    {
      "cell_type": "code",
      "metadata": {
        "id": "550i9lM1AiyU",
        "colab_type": "code",
        "colab": {
          "base_uri": "https://localhost:8080/",
          "height": 34
        },
        "outputId": "e3a01c80-a009-4ac2-a0ef-64bd2a5c4cff"
      },
      "source": [
        "id(b)"
      ],
      "execution_count": 64,
      "outputs": [
        {
          "output_type": "execute_result",
          "data": {
            "text/plain": [
              "139692522183688"
            ]
          },
          "metadata": {
            "tags": []
          },
          "execution_count": 64
        }
      ]
    },
    {
      "cell_type": "code",
      "metadata": {
        "id": "8eTRVLveA1AH",
        "colab_type": "code",
        "colab": {}
      },
      "source": [
        "a = b"
      ],
      "execution_count": 65,
      "outputs": []
    },
    {
      "cell_type": "code",
      "metadata": {
        "id": "pG0fO8nJBA_Y",
        "colab_type": "code",
        "colab": {
          "base_uri": "https://localhost:8080/",
          "height": 34
        },
        "outputId": "b711bad4-e670-462a-bef1-5c46cea78bec"
      },
      "source": [
        "print(a is b)"
      ],
      "execution_count": 66,
      "outputs": [
        {
          "output_type": "stream",
          "text": [
            "True\n"
          ],
          "name": "stdout"
        }
      ]
    },
    {
      "cell_type": "code",
      "metadata": {
        "id": "j9iUDJJQBPCk",
        "colab_type": "code",
        "colab": {
          "base_uri": "https://localhost:8080/",
          "height": 34
        },
        "outputId": "93da437e-6a19-4879-9565-f5931c42ff28"
      },
      "source": [
        "a.append(5)\n",
        "print(a)"
      ],
      "execution_count": 68,
      "outputs": [
        {
          "output_type": "stream",
          "text": [
            "[1, 2, 3, 5, 5]\n"
          ],
          "name": "stdout"
        }
      ]
    },
    {
      "cell_type": "code",
      "metadata": {
        "id": "q4eCiD0DByFS",
        "colab_type": "code",
        "colab": {
          "base_uri": "https://localhost:8080/",
          "height": 84
        },
        "outputId": "3302af41-6461-4538-99d7-d7799fe859bb"
      },
      "source": [
        "a = (1,2,3,[2,3,4])\n",
        "print(id(a))\n",
        "print(id(a[3][1]))\n",
        "a[3][1]=9\n",
        "a\n",
        "print(id(a))\n",
        "print(id(a[3][1]))"
      ],
      "execution_count": 76,
      "outputs": [
        {
          "output_type": "stream",
          "text": [
            "139692522257448\n",
            "10914560\n",
            "139692522257448\n",
            "10914752\n"
          ],
          "name": "stdout"
        }
      ]
    },
    {
      "cell_type": "markdown",
      "metadata": {
        "id": "pyFcBuLs0bme",
        "colab_type": "text"
      },
      "source": [
        "\n",
        "## ***Directories and File Operations***"
      ]
    },
    {
      "cell_type": "markdown",
      "metadata": {
        "id": "BET8FUcQ3lD0",
        "colab_type": "text"
      },
      "source": [
        "Directories"
      ]
    },
    {
      "cell_type": "code",
      "metadata": {
        "id": "vfHN--2w0cHP",
        "colab_type": "code",
        "colab": {
          "base_uri": "https://localhost:8080/",
          "height": 35
        },
        "outputId": "580e81ba-bd74-4bb0-dc50-91f3ef4e555f"
      },
      "source": [
        "import os\n",
        "os.getcwd()"
      ],
      "execution_count": 77,
      "outputs": [
        {
          "output_type": "execute_result",
          "data": {
            "application/vnd.google.colaboratory.intrinsic+json": {
              "type": "string"
            },
            "text/plain": [
              "'/content'"
            ]
          },
          "metadata": {
            "tags": []
          },
          "execution_count": 77
        }
      ]
    },
    {
      "cell_type": "code",
      "metadata": {
        "id": "FEtWSJwf1Lu2",
        "colab_type": "code",
        "colab": {
          "base_uri": "https://localhost:8080/",
          "height": 34
        },
        "outputId": "ecedd9a7-56eb-43a1-8e24-8da4ea235f1f"
      },
      "source": [
        "os.listdir()"
      ],
      "execution_count": 78,
      "outputs": [
        {
          "output_type": "execute_result",
          "data": {
            "text/plain": [
              "['.config', 'sample_data']"
            ]
          },
          "metadata": {
            "tags": []
          },
          "execution_count": 78
        }
      ]
    },
    {
      "cell_type": "code",
      "metadata": {
        "id": "qtEHp0JD1Quy",
        "colab_type": "code",
        "colab": {}
      },
      "source": [
        "os.mkdir('new file')"
      ],
      "execution_count": 79,
      "outputs": []
    },
    {
      "cell_type": "code",
      "metadata": {
        "id": "svAIh4w-1Ytd",
        "colab_type": "code",
        "colab": {}
      },
      "source": [
        "os.rename('new file',' new file 2')"
      ],
      "execution_count": null,
      "outputs": []
    },
    {
      "cell_type": "markdown",
      "metadata": {
        "id": "ZiaZtVBn3eb3",
        "colab_type": "text"
      },
      "source": [
        " Files: opening a file, reading from it, writing into it, closing it"
      ]
    },
    {
      "cell_type": "code",
      "metadata": {
        "id": "opW4M89G3jFd",
        "colab_type": "code",
        "colab": {}
      },
      "source": [
        "f = open('new file/Sample.txt')"
      ],
      "execution_count": 81,
      "outputs": []
    },
    {
      "cell_type": "markdown",
      "metadata": {
        "id": "FHv34EAD4u8w",
        "colab_type": "text"
      },
      "source": [
        "1. r - read\n",
        "2. w - write\n",
        "3. a - append\n",
        "4. x,b,t,+"
      ]
    },
    {
      "cell_type": "code",
      "metadata": {
        "id": "1p1R-Utm5DyC",
        "colab_type": "code",
        "colab": {}
      },
      "source": [
        "f = open('new file/Sample.txt','w')"
      ],
      "execution_count": 82,
      "outputs": []
    },
    {
      "cell_type": "code",
      "metadata": {
        "id": "kvsVm3iK5DdX",
        "colab_type": "code",
        "colab": {
          "base_uri": "https://localhost:8080/",
          "height": 34
        },
        "outputId": "2957f4c0-c800-4746-8b2c-1d1c8ed58a75"
      },
      "source": [
        "f.write('This is written inside sample.txt')"
      ],
      "execution_count": 83,
      "outputs": [
        {
          "output_type": "execute_result",
          "data": {
            "text/plain": [
              "33"
            ]
          },
          "metadata": {
            "tags": []
          },
          "execution_count": 83
        }
      ]
    },
    {
      "cell_type": "code",
      "metadata": {
        "id": "2wi1c4qQ5dqe",
        "colab_type": "code",
        "colab": {}
      },
      "source": [
        "f.close()"
      ],
      "execution_count": 84,
      "outputs": []
    },
    {
      "cell_type": "code",
      "metadata": {
        "id": "sBCEx5-p5Pve",
        "colab_type": "code",
        "colab": {}
      },
      "source": [
        "f = open('new file/Sample.txt','r')"
      ],
      "execution_count": 90,
      "outputs": []
    },
    {
      "cell_type": "code",
      "metadata": {
        "id": "vwPbMBJ15vwf",
        "colab_type": "code",
        "colab": {
          "base_uri": "https://localhost:8080/",
          "height": 35
        },
        "outputId": "a7739e58-d2fe-4460-eda4-8291b08535cd"
      },
      "source": [
        "f.read()"
      ],
      "execution_count": 92,
      "outputs": [
        {
          "output_type": "execute_result",
          "data": {
            "application/vnd.google.colaboratory.intrinsic+json": {
              "type": "string"
            },
            "text/plain": [
              "''"
            ]
          },
          "metadata": {
            "tags": []
          },
          "execution_count": 92
        }
      ]
    },
    {
      "cell_type": "code",
      "metadata": {
        "id": "EepIfdJEcUQf",
        "colab_type": "code",
        "colab": {}
      },
      "source": [
        "f.close()"
      ],
      "execution_count": 93,
      "outputs": []
    },
    {
      "cell_type": "code",
      "metadata": {
        "id": "tjEy10_0cYWF",
        "colab_type": "code",
        "colab": {}
      },
      "source": [
        "try:\n",
        "   f = open('new file/Sample.txt','a')\n",
        "   f.write(\"\\nThis is the 2nd line\")\n",
        "finally:\n",
        "   f.close()"
      ],
      "execution_count": 95,
      "outputs": []
    },
    {
      "cell_type": "code",
      "metadata": {
        "id": "8IvOfXFrcqhF",
        "colab_type": "code",
        "colab": {
          "base_uri": "https://localhost:8080/",
          "height": 67
        },
        "outputId": "ca6a6a0b-6bc6-42f4-a57d-f9857afa0faa"
      },
      "source": [
        "try:\n",
        "   f = open('new file/Sample.txt','r')\n",
        "   for lines in f:\n",
        "     print(lines)\n",
        "finally:\n",
        "   f.close()"
      ],
      "execution_count": 96,
      "outputs": [
        {
          "output_type": "stream",
          "text": [
            "This is written inside sample.txt\n",
            "\n",
            "This is the 2nd line\n"
          ],
          "name": "stdout"
        }
      ]
    },
    {
      "cell_type": "code",
      "metadata": {
        "id": "bDI5NPQ-dElj",
        "colab_type": "code",
        "colab": {}
      },
      "source": [
        "# with - as are also called as context managers\n",
        "with open('new file/Sample.txt','w') as f:\n",
        "   f.write(\"my first line\\n\")\n",
        "   f.write(\"This is the 2nd line\\n\")\n",
        "   f.write(\"now contains three lines\\n\")"
      ],
      "execution_count": 100,
      "outputs": []
    },
    {
      "cell_type": "code",
      "metadata": {
        "id": "2NwouFzmdW2o",
        "colab_type": "code",
        "colab": {
          "base_uri": "https://localhost:8080/",
          "height": 67
        },
        "outputId": "65e4f25e-95b9-4e66-ae37-bef5228a9fe1"
      },
      "source": [
        "with open('new file/Sample.txt','r') as f:\n",
        "   for lines in f:\n",
        "     print(lines)"
      ],
      "execution_count": 98,
      "outputs": [
        {
          "output_type": "stream",
          "text": [
            "This is written inside sample.txt\n",
            "\n",
            "This is the 2nd line\n"
          ],
          "name": "stdout"
        }
      ]
    },
    {
      "cell_type": "code",
      "metadata": {
        "id": "a5ClU7NodfMk",
        "colab_type": "code",
        "colab": {
          "base_uri": "https://localhost:8080/",
          "height": 34
        },
        "outputId": "aec4a7ce-febf-4f32-ba36-b52687504233"
      },
      "source": [
        "with open('new file/Sample.txt','r') as f:\n",
        "  print(f.readlines())"
      ],
      "execution_count": 99,
      "outputs": [
        {
          "output_type": "stream",
          "text": [
            "['This is written inside sample.txt\\n', 'This is the 2nd line']\n"
          ],
          "name": "stdout"
        }
      ]
    },
    {
      "cell_type": "markdown",
      "metadata": {
        "id": "NnyL5AOHeRNv",
        "colab_type": "text"
      },
      "source": [
        "## **Raising exceptions**"
      ]
    },
    {
      "cell_type": "markdown",
      "metadata": {
        "id": "x-FY4gxvgJQg",
        "colab_type": "text"
      },
      "source": [
        "How to handle exceptions in your Python program using try, except and finally statements.\n",
        "\n",
        ">> Exceptions can be handled using a try statement.\n",
        "\n",
        "The critical operation which can raise an exception is placed inside the try clause. The code that handles the exceptions is written in the except clause."
      ]
    },
    {
      "cell_type": "code",
      "metadata": {
        "id": "R8Z5uCYAiYnl",
        "colab_type": "code",
        "colab": {
          "base_uri": "https://localhost:8080/",
          "height": 218
        },
        "outputId": "373fd7df-1f08-45c2-b3c6-a7e97f8bc174"
      },
      "source": [
        "import sys\n",
        "\n",
        "mylist = [3,0, 'abcd', 2]\n",
        "\n",
        "for i in mylist:\n",
        "    try:\n",
        "        print(\"The element is\", i)\n",
        "        r = 1/int(i)\n",
        "        print(\"The reciprocal of\", i, \"is\", r,sys.exc_info())\n",
        "        #continue\n",
        "    except:\n",
        "        print(\"Error!!\", sys.exc_info()[0], \"occurred.\")\n",
        "        print(\"Next element...\")\n",
        "        print()\n",
        "        #break\n"
      ],
      "execution_count": 112,
      "outputs": [
        {
          "output_type": "stream",
          "text": [
            "The element is 3\n",
            "The reciprocal of 3 is 0.3333333333333333 (None, None, None)\n",
            "The element is 0\n",
            "Error!! <class 'ZeroDivisionError'> occurred.\n",
            "Next element...\n",
            "\n",
            "The element is abcd\n",
            "Error!! <class 'ValueError'> occurred.\n",
            "Next element...\n",
            "\n",
            "The element is 2\n",
            "The reciprocal of 2 is 0.5 (None, None, None)\n"
          ],
          "name": "stdout"
        }
      ]
    },
    {
      "cell_type": "code",
      "metadata": {
        "id": "M3Es9inPkrAn",
        "colab_type": "code",
        "colab": {
          "base_uri": "https://localhost:8080/",
          "height": 50
        },
        "outputId": "572dc760-425b-423d-ea35-8e620328ed5c"
      },
      "source": [
        "try:\n",
        "  a = int(input(\"Enter a positive integer: \"))\n",
        "  if a <= 0:\n",
        "    raise ValueError(\"That is not a positive number!\")\n",
        "except ValueError as ve:\n",
        "    print(ve)"
      ],
      "execution_count": 113,
      "outputs": [
        {
          "output_type": "stream",
          "text": [
            "Enter a positive integer: -8\n",
            "That is not a positive number!\n"
          ],
          "name": "stdout"
        }
      ]
    },
    {
      "cell_type": "code",
      "metadata": {
        "id": "ukWvEm2heelZ",
        "colab_type": "code",
        "colab": {
          "base_uri": "https://localhost:8080/",
          "height": 151
        },
        "outputId": "48d673b9-1fae-4c11-ec71-a9056fd0b458"
      },
      "source": [
        "# you need to guess this number\n",
        "number = 10\n",
        "\n",
        "class ValueTooSmallError(Exception):\n",
        "  \"\"\"Raised when the input value is too small\"\"\"\n",
        "  pass\n",
        "\n",
        "class ValueTooLargeError(Exception):\n",
        "  \"\"\"Raised when the input value is too large\"\"\"\n",
        "  pass\n",
        "\n",
        "# user guesses a number until he/she gets it right\n",
        "while True:\n",
        "    try:\n",
        "        i_num = int(input(\"Enter a number: \"))\n",
        "        if i_num < number:\n",
        "            raise ValueTooSmallError\n",
        "        elif i_num > number:\n",
        "            raise ValueTooLargeError\n",
        "        break\n",
        "    except ValueTooSmallError as S:\n",
        "        print(\"This value is too small, try again!\")\n",
        "        print()\n",
        "    except ValueTooLargeError as L:\n",
        "        print(\"This value is too large, try again!\")\n",
        "        print()\n",
        "\n",
        "print(\"Congratulations! You guessed it correctly.\")"
      ],
      "execution_count": 1,
      "outputs": [
        {
          "output_type": "stream",
          "text": [
            "Enter a number: 4\n",
            "This value is too small, try again!\n",
            "\n",
            "Enter a number: 12\n",
            "This value is too large, try again!\n",
            "\n",
            "Enter a number: 10\n",
            "Congratulations! You guessed it correctly.\n"
          ],
          "name": "stdout"
        }
      ]
    },
    {
      "cell_type": "markdown",
      "metadata": {
        "id": "yGZqpvGRrEF9",
        "colab_type": "text"
      },
      "source": [
        "## ***Itertools***"
      ]
    },
    {
      "cell_type": "markdown",
      "metadata": {
        "id": "Xa_jrnr_rHgS",
        "colab_type": "text"
      },
      "source": [
        "1. zip and zip_longest"
      ]
    },
    {
      "cell_type": "code",
      "metadata": {
        "id": "rYhfgHGKrx5S",
        "colab_type": "code",
        "colab": {}
      },
      "source": [
        "from itertools import  zip_longest"
      ],
      "execution_count": null,
      "outputs": []
    },
    {
      "cell_type": "code",
      "metadata": {
        "id": "wAn9J6lUpNQE",
        "colab_type": "code",
        "colab": {}
      },
      "source": [
        "a = [2,3,4,5,8,9]\n",
        "b = [3,5,6,7]\n",
        "lis = []\n",
        "for i,j in zip(a,b):\n",
        "  lis.append((i,j))"
      ],
      "execution_count": 4,
      "outputs": []
    },
    {
      "cell_type": "code",
      "metadata": {
        "id": "8gu9l-S8rcwV",
        "colab_type": "code",
        "colab": {
          "base_uri": "https://localhost:8080/",
          "height": 34
        },
        "outputId": "f1aac3a3-d7d0-4722-da83-2dac43530a80"
      },
      "source": [
        "lis"
      ],
      "execution_count": 5,
      "outputs": [
        {
          "output_type": "execute_result",
          "data": {
            "text/plain": [
              "[(2, 3), (3, 5), (4, 6), (5, 7)]"
            ]
          },
          "metadata": {
            "tags": []
          },
          "execution_count": 5
        }
      ]
    },
    {
      "cell_type": "code",
      "metadata": {
        "id": "lygTh6IcMxr3",
        "colab_type": "code",
        "colab": {}
      },
      "source": [
        "from itertools import zip_longest"
      ],
      "execution_count": 7,
      "outputs": []
    },
    {
      "cell_type": "code",
      "metadata": {
        "id": "PaHxAeRVrgTR",
        "colab_type": "code",
        "colab": {
          "base_uri": "https://localhost:8080/",
          "height": 34
        },
        "outputId": "fca474b4-24db-4b69-b12b-7d2fff5e8fae"
      },
      "source": [
        "a = [2,3,4,5]\n",
        "b = [3,5,6,7,8,9,2]\n",
        "lis = []\n",
        "for i,j in zip_longest(a,b,fillvalue=\"X\"):\n",
        "  lis.append((i,j))\n",
        "print(lis)"
      ],
      "execution_count": 8,
      "outputs": [
        {
          "output_type": "stream",
          "text": [
            "[(2, 3), (3, 5), (4, 6), (5, 7), ('X', 8), ('X', 9), ('X', 2)]\n"
          ],
          "name": "stdout"
        }
      ]
    },
    {
      "cell_type": "markdown",
      "metadata": {
        "id": "iKWmTjuHsOuG",
        "colab_type": "text"
      },
      "source": [
        "2.  Count and Cycle"
      ]
    },
    {
      "cell_type": "code",
      "metadata": {
        "id": "rJAtScnurpMR",
        "colab_type": "code",
        "colab": {}
      },
      "source": [
        "from itertools import count, cycle"
      ],
      "execution_count": 9,
      "outputs": []
    },
    {
      "cell_type": "code",
      "metadata": {
        "id": "7DmAxRGZtGh6",
        "colab_type": "code",
        "colab": {
          "base_uri": "https://localhost:8080/",
          "height": 34
        },
        "outputId": "0ee669fa-6874-4085-c80a-b6c262bd6401"
      },
      "source": [
        "count(2,0.5)"
      ],
      "execution_count": 11,
      "outputs": [
        {
          "output_type": "execute_result",
          "data": {
            "text/plain": [
              "count(2, 0.5)"
            ]
          },
          "metadata": {
            "tags": []
          },
          "execution_count": 11
        }
      ]
    },
    {
      "cell_type": "code",
      "metadata": {
        "id": "R4sYCtlOuhRs",
        "colab_type": "code",
        "colab": {}
      },
      "source": [
        "for i in count(2,0.5):\n",
        "  print(i)\n",
        "  if i==20:\n",
        "    break"
      ],
      "execution_count": null,
      "outputs": []
    },
    {
      "cell_type": "code",
      "metadata": {
        "id": "Q4qLd5PQukC_",
        "colab_type": "code",
        "colab": {}
      },
      "source": [
        "for i in cycle([1,2,3,4]):\n",
        "  print(i)"
      ],
      "execution_count": null,
      "outputs": []
    },
    {
      "cell_type": "markdown",
      "metadata": {
        "id": "S6UXQIi9x9au",
        "colab_type": "text"
      },
      "source": [
        "Accumulate and chain"
      ]
    },
    {
      "cell_type": "code",
      "metadata": {
        "id": "hqMD9J2LvWV2",
        "colab_type": "code",
        "colab": {}
      },
      "source": [
        "from itertools import accumulate, chain"
      ],
      "execution_count": 15,
      "outputs": []
    },
    {
      "cell_type": "code",
      "metadata": {
        "id": "MN4HVnoTxBXR",
        "colab_type": "code",
        "colab": {
          "base_uri": "https://localhost:8080/",
          "height": 34
        },
        "outputId": "8cf68236-b7af-4dd1-ca4a-ed64f71a1625"
      },
      "source": [
        "list(accumulate([1,2,3,4,5]))"
      ],
      "execution_count": 17,
      "outputs": [
        {
          "output_type": "execute_result",
          "data": {
            "text/plain": [
              "[1, 3, 6, 10, 15]"
            ]
          },
          "metadata": {
            "tags": []
          },
          "execution_count": 17
        }
      ]
    },
    {
      "cell_type": "code",
      "metadata": {
        "id": "TmF6-lOCSFXi",
        "colab_type": "code",
        "colab": {}
      },
      "source": [
        "dict1= {'a':2,'b':3}\n",
        "dic2 = {v:k for k,v in dict1.items()}"
      ],
      "execution_count": 28,
      "outputs": []
    },
    {
      "cell_type": "code",
      "metadata": {
        "id": "4Vadc3LFSVb9",
        "colab_type": "code",
        "colab": {
          "base_uri": "https://localhost:8080/",
          "height": 34
        },
        "outputId": "294f19a0-b609-451e-81fd-30ff3e27248d"
      },
      "source": [
        "dic2"
      ],
      "execution_count": 29,
      "outputs": [
        {
          "output_type": "execute_result",
          "data": {
            "text/plain": [
              "{2: 'a', 3: 'b'}"
            ]
          },
          "metadata": {
            "tags": []
          },
          "execution_count": 29
        }
      ]
    },
    {
      "cell_type": "code",
      "metadata": {
        "id": "v2Dj3YYzxFyO",
        "colab_type": "code",
        "colab": {
          "base_uri": "https://localhost:8080/",
          "height": 34
        },
        "outputId": "93ec3383-4ccb-404d-fccb-a5d68229245a"
      },
      "source": [
        "list(chain([1,2,3],[3,4,5],'ABCD',(1,2,3,3),{1:'a'}))"
      ],
      "execution_count": null,
      "outputs": [
        {
          "output_type": "execute_result",
          "data": {
            "text/plain": [
              "[1, 2, 3, 3, 4, 5, 'A', 'B', 'C', 'D', 1, 2, 3, 3, 1]"
            ]
          },
          "metadata": {
            "tags": []
          },
          "execution_count": 6
        }
      ]
    },
    {
      "cell_type": "markdown",
      "metadata": {
        "id": "jUk8-UeZyqTo",
        "colab_type": "text"
      },
      "source": [
        "3. Filterfalse"
      ]
    },
    {
      "cell_type": "code",
      "metadata": {
        "id": "JkR0Rz30yt79",
        "colab_type": "code",
        "colab": {}
      },
      "source": [
        "from itertools import filterfalse"
      ],
      "execution_count": 18,
      "outputs": []
    },
    {
      "cell_type": "code",
      "metadata": {
        "id": "j5ssz5pUyLb5",
        "colab_type": "code",
        "colab": {
          "base_uri": "https://localhost:8080/",
          "height": 34
        },
        "outputId": "be311ae6-7e3f-488d-a308-a5de4ea8792d"
      },
      "source": [
        "list(filterfalse(lambda x: x%2==0, range(10)))"
      ],
      "execution_count": 21,
      "outputs": [
        {
          "output_type": "execute_result",
          "data": {
            "text/plain": [
              "[1, 3, 5, 7, 9]"
            ]
          },
          "metadata": {
            "tags": []
          },
          "execution_count": 21
        }
      ]
    },
    {
      "cell_type": "markdown",
      "metadata": {
        "id": "FP6tXTTt09eh",
        "colab_type": "text"
      },
      "source": [
        "4. Product and permutations"
      ]
    },
    {
      "cell_type": "code",
      "metadata": {
        "id": "npybRpEKyx9V",
        "colab_type": "code",
        "colab": {}
      },
      "source": [
        "from itertools import product, permutations"
      ],
      "execution_count": 23,
      "outputs": []
    },
    {
      "cell_type": "code",
      "metadata": {
        "id": "UNXUgPR31mh7",
        "colab_type": "code",
        "colab": {
          "base_uri": "https://localhost:8080/",
          "height": 34
        },
        "outputId": "4979d1e7-2712-45e0-af7e-ab871ba1e2e2"
      },
      "source": [
        "list(product([1,2,3], 'BD'))"
      ],
      "execution_count": 25,
      "outputs": [
        {
          "output_type": "execute_result",
          "data": {
            "text/plain": [
              "[(1, 'B'), (1, 'D'), (2, 'B'), (2, 'D'), (3, 'B'), (3, 'D')]"
            ]
          },
          "metadata": {
            "tags": []
          },
          "execution_count": 25
        }
      ]
    },
    {
      "cell_type": "code",
      "metadata": {
        "id": "c2x-Lh7-1XOt",
        "colab_type": "code",
        "colab": {
          "base_uri": "https://localhost:8080/",
          "height": 34
        },
        "outputId": "c6266143-d1ed-4147-d080-16d8c3ae9314"
      },
      "source": [
        "list(permutations('ABC',2))"
      ],
      "execution_count": null,
      "outputs": [
        {
          "output_type": "execute_result",
          "data": {
            "text/plain": [
              "[('A', 'B'), ('A', 'C'), ('B', 'A'), ('B', 'C'), ('C', 'A'), ('C', 'B')]"
            ]
          },
          "metadata": {
            "tags": []
          },
          "execution_count": 2
        }
      ]
    },
    {
      "cell_type": "markdown",
      "metadata": {
        "id": "bgwWaH9gZjqv",
        "colab_type": "text"
      },
      "source": [
        "## ***Collections***"
      ]
    },
    {
      "cell_type": "code",
      "metadata": {
        "id": "YpdDdUGS2qfU",
        "colab_type": "code",
        "colab": {}
      },
      "source": [
        "import collections "
      ],
      "execution_count": null,
      "outputs": []
    },
    {
      "cell_type": "markdown",
      "metadata": {
        "id": "LsRD3xeCeR6V",
        "colab_type": "text"
      },
      "source": [
        "1. ChainMap"
      ]
    },
    {
      "cell_type": "code",
      "metadata": {
        "id": "bQTlxzreeQ7_",
        "colab_type": "code",
        "colab": {}
      },
      "source": [
        "dic1 = { 'a' : 1, 'b' : 2 } \n",
        "dic2 = { 'b' : 3, 'c' : 4 } \n",
        "dic3 = { 'd' : 5 } "
      ],
      "execution_count": null,
      "outputs": []
    },
    {
      "cell_type": "code",
      "metadata": {
        "id": "N38K87yCeybD",
        "colab_type": "code",
        "colab": {}
      },
      "source": [
        "chain = collections.ChainMap(dic1, dic2)"
      ],
      "execution_count": null,
      "outputs": []
    },
    {
      "cell_type": "code",
      "metadata": {
        "id": "idIcr856e4N-",
        "colab_type": "code",
        "colab": {}
      },
      "source": [
        "print (chain.maps)"
      ],
      "execution_count": null,
      "outputs": []
    },
    {
      "cell_type": "code",
      "metadata": {
        "id": "Ubejqr-ae7Nc",
        "colab_type": "code",
        "colab": {}
      },
      "source": [
        "chain.keys()"
      ],
      "execution_count": null,
      "outputs": []
    },
    {
      "cell_type": "code",
      "metadata": {
        "id": "n8TmpL_9fBhL",
        "colab_type": "code",
        "colab": {}
      },
      "source": [
        "chain1 = chain.new_child(dic3)"
      ],
      "execution_count": null,
      "outputs": []
    },
    {
      "cell_type": "code",
      "metadata": {
        "id": "OD2VP-vTfX8E",
        "colab_type": "code",
        "colab": {}
      },
      "source": [
        "chain1.keys()"
      ],
      "execution_count": null,
      "outputs": []
    },
    {
      "cell_type": "markdown",
      "metadata": {
        "id": "jbk1PLoag5WL",
        "colab_type": "text"
      },
      "source": [
        "2. Deque"
      ]
    },
    {
      "cell_type": "code",
      "metadata": {
        "id": "WnzKoNvaflUT",
        "colab_type": "code",
        "colab": {}
      },
      "source": [
        "d = collections.deque([1,2,3,4,3,2,1,6,1,2,5,6])       "
      ],
      "execution_count": null,
      "outputs": []
    },
    {
      "cell_type": "code",
      "metadata": {
        "id": "zg1aXeothDJv",
        "colab_type": "code",
        "colab": {}
      },
      "source": [
        "d"
      ],
      "execution_count": null,
      "outputs": []
    },
    {
      "cell_type": "code",
      "metadata": {
        "id": "8t3LfB71hEmJ",
        "colab_type": "code",
        "colab": {}
      },
      "source": [
        "d.appendleft(10)"
      ],
      "execution_count": null,
      "outputs": []
    },
    {
      "cell_type": "code",
      "metadata": {
        "id": "VC0lcVsAhVEL",
        "colab_type": "code",
        "colab": {}
      },
      "source": [
        "d"
      ],
      "execution_count": null,
      "outputs": []
    },
    {
      "cell_type": "code",
      "metadata": {
        "id": "lNRV74qKhVpi",
        "colab_type": "code",
        "colab": {}
      },
      "source": [
        "d.count(2)"
      ],
      "execution_count": null,
      "outputs": []
    },
    {
      "cell_type": "code",
      "metadata": {
        "id": "CRPrt22dhbpa",
        "colab_type": "code",
        "colab": {}
      },
      "source": [
        "d.popleft()"
      ],
      "execution_count": null,
      "outputs": []
    },
    {
      "cell_type": "code",
      "metadata": {
        "id": "u6_I6x5lhh6s",
        "colab_type": "code",
        "colab": {}
      },
      "source": [
        "d.reverse()"
      ],
      "execution_count": null,
      "outputs": []
    },
    {
      "cell_type": "code",
      "metadata": {
        "id": "8wxbT-cYhq6V",
        "colab_type": "code",
        "colab": {}
      },
      "source": [
        "d"
      ],
      "execution_count": null,
      "outputs": []
    },
    {
      "cell_type": "code",
      "metadata": {
        "id": "AaPMitTMhrni",
        "colab_type": "code",
        "colab": {}
      },
      "source": [
        "d.rotate(1)"
      ],
      "execution_count": null,
      "outputs": []
    },
    {
      "cell_type": "code",
      "metadata": {
        "id": "hBc6k4_Khypz",
        "colab_type": "code",
        "colab": {}
      },
      "source": [
        "d"
      ],
      "execution_count": null,
      "outputs": []
    },
    {
      "cell_type": "code",
      "metadata": {
        "id": "aoR1iHsOh2XC",
        "colab_type": "code",
        "colab": {}
      },
      "source": [
        "d.rotate(-1)"
      ],
      "execution_count": null,
      "outputs": []
    },
    {
      "cell_type": "code",
      "metadata": {
        "id": "zwEhn4sUh4z6",
        "colab_type": "code",
        "colab": {}
      },
      "source": [
        "d"
      ],
      "execution_count": null,
      "outputs": []
    },
    {
      "cell_type": "markdown",
      "metadata": {
        "id": "6oGhddGOiTtg",
        "colab_type": "text"
      },
      "source": [
        "3. Counter"
      ]
    },
    {
      "cell_type": "code",
      "metadata": {
        "id": "KSIuouRLh5Oi",
        "colab_type": "code",
        "colab": {}
      },
      "source": [
        "a = \"This is a string is a this hello world is this a string world this\""
      ],
      "execution_count": null,
      "outputs": []
    },
    {
      "cell_type": "code",
      "metadata": {
        "id": "MATfeCJeieqa",
        "colab_type": "code",
        "colab": {}
      },
      "source": [
        "collections.Counter(a.split())"
      ],
      "execution_count": null,
      "outputs": []
    },
    {
      "cell_type": "markdown",
      "metadata": {
        "id": "JJgml6t0n058",
        "colab_type": "text"
      },
      "source": [
        "4. Defaultdic"
      ]
    },
    {
      "cell_type": "code",
      "metadata": {
        "id": "r7A2PB9EilIC",
        "colab_type": "code",
        "colab": {}
      },
      "source": [
        "dict1 = {}\n",
        "dict1['a'].append(4)"
      ],
      "execution_count": null,
      "outputs": []
    },
    {
      "cell_type": "code",
      "metadata": {
        "id": "tTjATHuUn9R9",
        "colab_type": "code",
        "colab": {}
      },
      "source": [
        "dict2 = collections.defaultdict(list)"
      ],
      "execution_count": null,
      "outputs": []
    },
    {
      "cell_type": "code",
      "metadata": {
        "id": "PJAZ9Z3ioCw_",
        "colab_type": "code",
        "colab": {}
      },
      "source": [
        "dict2['a'].append(4)"
      ],
      "execution_count": null,
      "outputs": []
    },
    {
      "cell_type": "code",
      "metadata": {
        "id": "gcwBxZ_mo8Gq",
        "colab_type": "code",
        "colab": {}
      },
      "source": [
        "dict2"
      ],
      "execution_count": null,
      "outputs": []
    },
    {
      "cell_type": "code",
      "metadata": {
        "id": "Pk3c94uxo9yq",
        "colab_type": "code",
        "colab": {}
      },
      "source": [
        "dep = [('Sales', 'John Doe'),\n",
        "       ('Sales', 'Martin Smith'),\n",
        "       ('Accounting', 'Jane Doe'),\n",
        "       ('Marketing', 'Elizabeth Smith'),\n",
        "       ('Marketing', 'Adam Doe')]"
      ],
      "execution_count": null,
      "outputs": []
    },
    {
      "cell_type": "code",
      "metadata": {
        "id": "ycmrOiBWpee6",
        "colab_type": "code",
        "colab": {}
      },
      "source": [
        "dep_dd = {}\n",
        "for department, employee in dep:\n",
        "    dep_dd[department].append(employee)"
      ],
      "execution_count": null,
      "outputs": []
    },
    {
      "cell_type": "code",
      "metadata": {
        "id": "XG4_kqV6pjU6",
        "colab_type": "code",
        "colab": {}
      },
      "source": [
        "dep_dd = collections.defaultdict(list)\n",
        "for department, employee in dep:\n",
        "    dep_dd[department].append(employee)"
      ],
      "execution_count": null,
      "outputs": []
    },
    {
      "cell_type": "code",
      "metadata": {
        "id": "Xb0SR7xzppER",
        "colab_type": "code",
        "colab": {}
      },
      "source": [
        "dep_dd"
      ],
      "execution_count": null,
      "outputs": []
    },
    {
      "cell_type": "markdown",
      "metadata": {
        "id": "qLLx8nXQsIHN",
        "colab_type": "text"
      },
      "source": [
        "5. NamedTuple"
      ]
    },
    {
      "cell_type": "code",
      "metadata": {
        "id": "V64fw-idsLkF",
        "colab_type": "code",
        "colab": {}
      },
      "source": [
        "from collections import namedtuple\n",
        "Performance = namedtuple('Employee_Rating', 'Q1 Q2 Q3 Q4')\n",
        "rahul = Performance(3,4,3.5,4.5)\n",
        "ankit = Performance(4,4.5,4,4.5)\n",
        "print(ankit)\n",
        "print(rahul)"
      ],
      "execution_count": null,
      "outputs": []
    },
    {
      "cell_type": "code",
      "metadata": {
        "id": "yj4LVc19ssLe",
        "colab_type": "code",
        "colab": {}
      },
      "source": [
        "#accessing using index\n",
        "\n",
        "print(rahul[0])\n",
        "print(ankit[3])"
      ],
      "execution_count": null,
      "outputs": []
    },
    {
      "cell_type": "code",
      "metadata": {
        "id": "uTiqx4VhszZX",
        "colab_type": "code",
        "colab": {}
      },
      "source": [
        "#accessing using key\n",
        "\n",
        "print(rahul.Q1)\n",
        "print(ankit.Q1)"
      ],
      "execution_count": null,
      "outputs": []
    },
    {
      "cell_type": "code",
      "metadata": {
        "id": "I0tbyV4ks2lA",
        "colab_type": "code",
        "colab": {}
      },
      "source": [
        "#accesssing using getattr() method\n",
        "\n",
        "print(getattr(rahul,'Q3'))\n",
        "print(getattr(ankit,'Q3'))"
      ],
      "execution_count": null,
      "outputs": []
    },
    {
      "cell_type": "markdown",
      "metadata": {
        "id": "yB8BIPRTsLCv",
        "colab_type": "text"
      },
      "source": [
        ""
      ]
    },
    {
      "cell_type": "markdown",
      "metadata": {
        "id": "60ZEVXVCq7LN",
        "colab_type": "text"
      },
      "source": [
        "## ***Modules, Packages, Classes***"
      ]
    },
    {
      "cell_type": "markdown",
      "metadata": {
        "id": "NVS81EVmyRtX",
        "colab_type": "text"
      },
      "source": [
        "**Modules**"
      ]
    },
    {
      "cell_type": "markdown",
      "metadata": {
        "id": "0LHmqJiGqDpC",
        "colab_type": "text"
      },
      "source": [
        "Modular programming refers to the process of breaking a large, unwieldy programming task into separate, smaller, more manageable sub-tasks or modules. Individual modules can then be cobbled together like building blocks to create a larger application.\n",
        "\n",
        "**Simplicity**: Rather than focusing on the entire problem at hand, a module typically focuses on one relatively small portion of the problem. If we are working on a single module, we’ll have a smaller problem domain to wrap our head around. This makes development easier and less error-prone.\n",
        "\n",
        "**Maintainability**: Modules are typically designed so that they enforce logical boundaries between different problem domains. If modules are written in a way that minimises interdependency, there is a decreased likelihood that modifications to a single module will have an impact on other parts of the program. We may even be able to make changes to a module without having any knowledge of the application outside that module. This makes it more viable for a team of many programmers to work collaboratively on a large application.\n",
        "\n",
        "**Reusability**: Functionality defined in a single module can be easily reused through an appropriately defined interface by other parts of the application. This eliminates the need to duplicate code.\n",
        "\n",
        "**Scoping**: Modules typically define a separate namespace, which helps avoid collisions between identifiers in different areas of a program."
      ]
    },
    {
      "cell_type": "markdown",
      "metadata": {
        "id": "73ru6fCZwk1K",
        "colab_type": "text"
      },
      "source": [
        "Namespaces:"
      ]
    },
    {
      "cell_type": "markdown",
      "metadata": {
        "id": "T44F8LJYxIeW",
        "colab_type": "text"
      },
      "source": [
        "Import, from import"
      ]
    },
    {
      "cell_type": "markdown",
      "metadata": {
        "id": "0wL3l3ZnrKkK",
        "colab_type": "text"
      },
      "source": [
        "Custom modules?"
      ]
    },
    {
      "cell_type": "markdown",
      "metadata": {
        "id": "Rgbv4UxUyLSj",
        "colab_type": "text"
      },
      "source": [
        "**Packages**"
      ]
    },
    {
      "cell_type": "markdown",
      "metadata": {
        "id": "zA1mGrHyynig",
        "colab_type": "text"
      },
      "source": [
        "Packages allow us for a hierarchical structuring of the module namespace using dot notation. It means that if we say A.B then it stands for a submodule named B in a package named A. Packages also work in the same way like modules. As the Module help avoid collisions between global variable names, packages also help avoid collisions between module names. Two different packages like P1 and P2 can both have modules with the same name, for example, let’s say ‘A’. The submodule  A of the package P1 and the submodule  A of the package P2 can be totally different.\n",
        "\n",
        "Packages are namespaces which contain multiple packages and modules themselves. They are simply directories, but with a twist.\n",
        "\n",
        "Each package in Python is a directory which MUST contain a special file called __init__.py. This file can be empty, and it indicates that the directory it contains is a Python package, so it can be imported the same way a module can be imported"
      ]
    },
    {
      "cell_type": "markdown",
      "metadata": {
        "id": "Z6Kkvrtnz4j4",
        "colab_type": "text"
      },
      "source": [
        "**Classes and Objects**"
      ]
    },
    {
      "cell_type": "markdown",
      "metadata": {
        "id": "mUXaYWr7maYY",
        "colab_type": "text"
      },
      "source": [
        "Creating a Class"
      ]
    },
    {
      "cell_type": "code",
      "metadata": {
        "id": "zyErd6TBpqqz",
        "colab_type": "code",
        "colab": {}
      },
      "source": [
        "class Employee:\n",
        "    name = \"Vivek\"\n",
        "    age = 26\n",
        "    salary = 500000"
      ],
      "execution_count": null,
      "outputs": []
    },
    {
      "cell_type": "markdown",
      "metadata": {
        "id": "qcL8w5Z1mees",
        "colab_type": "text"
      },
      "source": [
        "Instance of a class"
      ]
    },
    {
      "cell_type": "code",
      "metadata": {
        "id": "uFk2_3ycKgOl",
        "colab_type": "code",
        "colab": {}
      },
      "source": [
        "e = Employee()"
      ],
      "execution_count": null,
      "outputs": []
    },
    {
      "cell_type": "markdown",
      "metadata": {
        "id": "UmpTqH4jmuvq",
        "colab_type": "text"
      },
      "source": [
        "Self, __init__, methods"
      ]
    },
    {
      "cell_type": "code",
      "metadata": {
        "id": "NHTx-epSLM_F",
        "colab_type": "code",
        "colab": {}
      },
      "source": [
        "class Employee:\n",
        "\n",
        "    #names = \"default name\"\n",
        "    def __init__(self, name, age,salary):\n",
        "        self.names = name\n",
        "        self.ages = age\n",
        "        self.salarys = salary\n",
        "        \n",
        "    def printer(self):\n",
        "        print(\"My name is: \",self.names)\n",
        "        print(\"My salary is: \",self.salarys)\n",
        "        print(\"My age is \",self.ages)"
      ],
      "execution_count": null,
      "outputs": []
    },
    {
      "cell_type": "code",
      "metadata": {
        "id": "K0Em-HjwNvT_",
        "colab_type": "code",
        "colab": {}
      },
      "source": [
        "e = Employee(\"Vivek\", 26,500000)\n",
        "print(e.names, e.ages,e.salarys)"
      ],
      "execution_count": null,
      "outputs": []
    },
    {
      "cell_type": "code",
      "metadata": {
        "id": "mf025KsLOThk",
        "colab_type": "code",
        "colab": {}
      },
      "source": [
        "e = Employee(\"Vivek\", 26,500000)"
      ],
      "execution_count": null,
      "outputs": []
    },
    {
      "cell_type": "code",
      "metadata": {
        "id": "_H7jdJwiPCmw",
        "colab_type": "code",
        "colab": {}
      },
      "source": [
        "e.printer()"
      ],
      "execution_count": null,
      "outputs": []
    },
    {
      "cell_type": "markdown",
      "metadata": {
        "id": "8PdObbtxReJm",
        "colab_type": "text"
      },
      "source": [
        "Note: self is mandatory for methods but \"self\" is not"
      ]
    },
    {
      "cell_type": "markdown",
      "metadata": {
        "id": "IhwmI1pMmSht",
        "colab_type": "text"
      },
      "source": [
        "**Class and Instance Variables**"
      ]
    },
    {
      "cell_type": "markdown",
      "metadata": {
        "id": "n0RpA8WxnDVi",
        "colab_type": "text"
      },
      "source": [
        "Instance variables are for data unique to each instance and class variables are for attributes and methods shared by all instances of the class. Instance variables are variables whose value is assigned inside a constructor or method with self whereas class variables are variables whose value is assigned in the class."
      ]
    },
    {
      "cell_type": "code",
      "metadata": {
        "id": "iFppa6RuRadd",
        "colab_type": "code",
        "colab": {}
      },
      "source": [
        "f = Employee(\"Manesh\",45,566777888)"
      ],
      "execution_count": null,
      "outputs": []
    },
    {
      "cell_type": "code",
      "metadata": {
        "id": "dmBY4knbnc-U",
        "colab_type": "code",
        "colab": {}
      },
      "source": [
        "print('Vivek details:')    \n",
        "print('Employee 1 name is', e.names)  "
      ],
      "execution_count": null,
      "outputs": []
    },
    {
      "cell_type": "code",
      "metadata": {
        "id": "oVjromxanzyh",
        "colab_type": "code",
        "colab": {}
      },
      "source": [
        "print('Manesh details:')    \n",
        "print('Employee 2 name is', f.names)  "
      ],
      "execution_count": null,
      "outputs": []
    },
    {
      "cell_type": "code",
      "metadata": {
        "id": "XSOwgSuX5-rH",
        "colab_type": "code",
        "colab": {
          "base_uri": "https://localhost:8080/",
          "height": 34
        },
        "outputId": "599fae5c-f6f2-48d7-d710-116ecd1ab6f0"
      },
      "source": [
        "!git init"
      ],
      "execution_count": null,
      "outputs": [
        {
          "output_type": "stream",
          "text": [
            "Initialized empty Git repository in /content/.git/\n"
          ],
          "name": "stdout"
        }
      ]
    },
    {
      "cell_type": "code",
      "metadata": {
        "id": "Iifh6e6e6BTl",
        "colab_type": "code",
        "colab": {}
      },
      "source": [
        "!git config --global user.email \"chayankathuria@gmail.com\""
      ],
      "execution_count": null,
      "outputs": []
    },
    {
      "cell_type": "code",
      "metadata": {
        "id": "77wznpZ-6Gwf",
        "colab_type": "code",
        "colab": {}
      },
      "source": [
        "!git config --global user.name \"chayankathuria\""
      ],
      "execution_count": null,
      "outputs": []
    },
    {
      "cell_type": "code",
      "metadata": {
        "id": "BBzrfUAN6TFX",
        "colab_type": "code",
        "colab": {}
      },
      "source": [
        "!git add -A"
      ],
      "execution_count": null,
      "outputs": []
    },
    {
      "cell_type": "code",
      "metadata": {
        "id": "HQBWznQJ6aUA",
        "colab_type": "code",
        "colab": {
          "base_uri": "https://localhost:8080/",
          "height": 391
        },
        "outputId": "9b999a36-8740-4fd7-b46f-86a6da097fae"
      },
      "source": [
        "!git commit -m \"first commit from colab\""
      ],
      "execution_count": null,
      "outputs": [
        {
          "output_type": "stream",
          "text": [
            "[master (root-commit) 59a9c91] first commit from colab\n",
            " 20 files changed, 50715 insertions(+)\n",
            " create mode 100644 .config/.last_opt_in_prompt.yaml\n",
            " create mode 100644 .config/.last_survey_prompt.yaml\n",
            " create mode 100644 .config/.last_update_check.json\n",
            " create mode 100644 .config/.metricsUUID\n",
            " create mode 100644 .config/active_config\n",
            " create mode 100644 .config/config_sentinel\n",
            " create mode 100644 .config/configurations/config_default\n",
            " create mode 100644 .config/gce\n",
            " create mode 100644 .config/logs/2020.09.16/16.27.53.559887.log\n",
            " create mode 100644 .config/logs/2020.09.16/16.28.12.223468.log\n",
            " create mode 100644 .config/logs/2020.09.16/16.28.26.331600.log\n",
            " create mode 100644 .config/logs/2020.09.16/16.28.31.779869.log\n",
            " create mode 100644 .config/logs/2020.09.16/16.28.46.906775.log\n",
            " create mode 100644 .config/logs/2020.09.16/16.28.47.613155.log\n",
            " create mode 100755 sample_data/README.md\n",
            " create mode 100755 sample_data/anscombe.json\n",
            " create mode 100644 sample_data/california_housing_test.csv\n",
            " create mode 100644 sample_data/california_housing_train.csv\n",
            " create mode 100644 sample_data/mnist_test.csv\n",
            " create mode 100644 sample_data/mnist_train_small.csv\n"
          ],
          "name": "stdout"
        }
      ]
    },
    {
      "cell_type": "code",
      "metadata": {
        "id": "spNYzPPQ6fNX",
        "colab_type": "code",
        "colab": {
          "base_uri": "https://localhost:8080/",
          "height": 34
        },
        "outputId": "8b68d93e-7330-4f3a-b4fd-d6702e6a77e4"
      },
      "source": [
        "!git remote add origin https://chayankathuria:Ck@github80"
      ],
      "execution_count": null,
      "outputs": [
        {
          "output_type": "stream",
          "text": [
            "fatal: remote origin already exists.\n"
          ],
          "name": "stdout"
        }
      ]
    },
    {
      "cell_type": "code",
      "metadata": {
        "id": "1FpHOcm7603f",
        "colab_type": "code",
        "colab": {
          "base_uri": "https://localhost:8080/",
          "height": 54
        },
        "outputId": "0d3c8101-5315-40d3-ceee-cd62e73bdcbe"
      },
      "source": [
        "!git push -u origin master"
      ],
      "execution_count": null,
      "outputs": [
        {
          "output_type": "stream",
          "text": [
            "fatal: unable to access 'https://chayankathuria:Ck@github80github@github.com/chayankathuria/Python-Advance-01.git/': Could not resolve host: github80github@github.com\n"
          ],
          "name": "stdout"
        }
      ]
    },
    {
      "cell_type": "code",
      "metadata": {
        "id": "_zur7L_P7OuY",
        "colab_type": "code",
        "colab": {}
      },
      "source": [
        ""
      ],
      "execution_count": null,
      "outputs": []
    }
  ]
}